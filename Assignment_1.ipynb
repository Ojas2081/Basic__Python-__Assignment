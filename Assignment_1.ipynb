{
 "cells": [
  {
   "cell_type": "code",
   "execution_count": null,
   "id": "6e2c66b8",
   "metadata": {},
   "outputs": [],
   "source": [
    "Q1). In the below elements which of them are values or an expression? eg:- values can be integer or string and \n",
    "    expressions will be mathematical operators.\n",
    "   * \n",
    "'hello'\n",
    "-87.8\n",
    " - \n",
    "  / \n",
    "  +\n",
    "6 \n",
    "\n",
    "Solution :-\n",
    "\n",
    "1) * it is a expression.\n",
    "2) 'hello' it is a value.\n",
    "3) -87.8 it is a value.\n",
    "4) - it is a expression.\n",
    "5) / it is a expression.\n",
    "6) + it is a expression.\n",
    "7) 6 it is a value."
   ]
  },
  {
   "cell_type": "code",
   "execution_count": null,
   "id": "8c7796bf",
   "metadata": {},
   "outputs": [],
   "source": [
    "\n",
    "Q2). What is the difference between string and variable?\n",
    "\n",
    "Solution :- variable is like refrencing to a memory location while string is a object.\n",
    "string is stored in variable but variable is not stored in string.Variable store multiple data types like integer,\n",
    "string,float,boolean,list and many more but string does not store anything."
   ]
  },
  {
   "cell_type": "code",
   "execution_count": null,
   "id": "bac8b2eb",
   "metadata": {},
   "outputs": [],
   "source": [
    "\n",
    "Q3). Describe three different data types.\n",
    "\n",
    "Solution :- \n",
    "1) int:- it comes under number category. this type of datatype is used to store only integer values. int() function\n",
    "is used to typecast particular data into integer if that data can be converted into integer format.\n",
    "\n",
    "2) string:- this datatype is used to store a single character or series of characters. str() function is used to \n",
    "convert a data into string.data stored in string is basically in double or single quotes. it is an iterable object.\n",
    "    elements  can be accessed by index. string slicing can also be done on strings\n",
    "\n",
    "3) boolean:- this datatype has only two values that is true or false.this datatype is mostly used in loops as\n",
    "well as in condition statements.this datatype plays really an important role for decision control statements. \n",
    "\n",
    "4)list:- it is ordered collection of elements.the elements stored in the list can be of different datatypes. \n",
    "there are many methods to use when we use list like append,extend,sort and many other. it is an iterable \n",
    "object.each element can be accessed by using index.\n"
   ]
  },
  {
   "cell_type": "code",
   "execution_count": null,
   "id": "9b14f04c",
   "metadata": {},
   "outputs": [],
   "source": [
    "\n",
    "Q4). What is an expression made up of? What do all expressions do?\n",
    "\n",
    "Solution :-\n",
    "\n",
    "expression is made up of operands and operators as well as strings also.expression is basically a statement \n",
    "which gives you value for eg. expression is a<10 in this expression the value we would get is true or false\n",
    "which helps us in loops as well as in decision control statements. other expression are also used in loops \n",
    "like which gives a integer value, any integer value other than 0 is considered as true and 0 as false."
   ]
  },
  {
   "cell_type": "code",
   "execution_count": null,
   "id": "95e18b5b",
   "metadata": {},
   "outputs": [],
   "source": [
    "\n",
    "Q5). This assignment statements, like spam = 10. What is the difference between an expression and a statement?\n",
    "\n",
    "Solution :-\n",
    "\n",
    "assignment statement is basically assigning a value to a variable. the thing at the right of the assignment of the \n",
    "variable can be operand or expression .An expression can give true or false value but a statemnet cannot give. Here, \n",
    "in this statement simply value 10 is assigned to a memory location which is referenced by name spam.   "
   ]
  },
  {
   "cell_type": "code",
   "execution_count": null,
   "id": "a6215a5c",
   "metadata": {},
   "outputs": [],
   "source": [
    "\n",
    "Q6). After running the following code, what does the variable bacon contain?\n",
    "bacon = 22\n",
    "bacon + 1\n",
    "\n",
    "Solution :- The variable bacon will contain 22 only because the addition of 1 is done as a expression the value \n",
    "in the variable is untouched. \n"
   ]
  },
  {
   "cell_type": "code",
   "execution_count": null,
   "id": "c019e6ad",
   "metadata": {},
   "outputs": [],
   "source": [
    "\n",
    "Q7). What should the values of the following two terms be?\n",
    "'spam' + 'spamspam'\n",
    "'spam' * 3\n",
    "\n",
    "Solution :- for the first term it is basically concatenation of two strings answer would be \"spamspamspam\".\n",
    "for second term we would get 3 spam strings one after the other same as above \"spamspamspam\". "
   ]
  },
  {
   "cell_type": "code",
   "execution_count": null,
   "id": "392aea91",
   "metadata": {},
   "outputs": [],
   "source": [
    "\n",
    "Q8). Why is eggs a valid variable name while 100 is invalid?\n",
    "\n",
    "Solution :- 100 is invalid because according to the rule variable has to start with a alphabet or a underscore.\n",
    "for eg if \n",
    "123 =\"xyz\"\n",
    "hi + 123\n",
    "and you try to concatenate 123 variable with hi, python will consider 123 as int type and give error message that 123\n",
    "is int and cannot be conactenated. "
   ]
  },
  {
   "cell_type": "code",
   "execution_count": null,
   "id": "baa95e17",
   "metadata": {},
   "outputs": [],
   "source": [
    "\n",
    "Q9). What three functions can be used to get the integer, floating-point number, or string version of a value?\n",
    "\n",
    "Solution :- 1) int()\n",
    "2)str()\n",
    "3)float()"
   ]
  },
  {
   "cell_type": "code",
   "execution_count": null,
   "id": "b92c3d70",
   "metadata": {},
   "outputs": [],
   "source": [
    "\n",
    "Q10). Why does this expression cause an error? How can you fix it?\n",
    "'I have eaten ' + 99 + ' burritos.'\n",
    "\n",
    "Solution :- \n",
    "\n",
    "the error is because of the 99 which is present in that expression,as 99 is a integer, and integer and a string\n",
    "cannot be concatenated the error can be fixed by typecasting 99 into string.\n",
    "'I have eaten ' + str(99) + ' burritos.'"
   ]
  }
 ],
 "metadata": {
  "kernelspec": {
   "display_name": "Python 3 (ipykernel)",
   "language": "python",
   "name": "python3"
  },
  "language_info": {
   "codemirror_mode": {
    "name": "ipython",
    "version": 3
   },
   "file_extension": ".py",
   "mimetype": "text/x-python",
   "name": "python",
   "nbconvert_exporter": "python",
   "pygments_lexer": "ipython3",
   "version": "3.9.7"
  }
 },
 "nbformat": 4,
 "nbformat_minor": 5
}
