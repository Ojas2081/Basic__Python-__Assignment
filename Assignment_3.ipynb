{
 "cells": [
  {
   "cell_type": "code",
   "execution_count": null,
   "id": "ada53bc0",
   "metadata": {},
   "outputs": [],
   "source": [
    "Q1). Why are functions advantageous to have in your programs?\n",
    "\n",
    "Solution :- Functions are advantageous because we don't have to write same logic again\n",
    "    and again. Reusability of code can be achieved. We just have to call the function when \n",
    "    we have to use it. writing the same code again and again makes the OOP's ability of the\n",
    "    programming language disappear."
   ]
  },
  {
   "cell_type": "code",
   "execution_count": null,
   "id": "b3d39350",
   "metadata": {},
   "outputs": [],
   "source": [
    "Q2). When does the code in a function run: when it's specified or when it's called?\n",
    "    \n",
    "Solution :- Code in a function runs when the function is called."
   ]
  },
  {
   "cell_type": "code",
   "execution_count": null,
   "id": "49f1e549",
   "metadata": {},
   "outputs": [],
   "source": [
    "Q3). What statement creates a function?\n",
    "\n",
    "Solution :- def function_name(): creates a function.\n",
    "        \n",
    "example\n",
    "def function1():\n",
    "    pass                "
   ]
  },
  {
   "cell_type": "code",
   "execution_count": null,
   "id": "7566481c",
   "metadata": {},
   "outputs": [],
   "source": [
    "Q4). What is the difference between a function and a function call?\n",
    "\n",
    "Solution :- Function is basically a logic or a code to do particular task.\n",
    "    Function is just a piece of code or a block.\n",
    "    Function call is that when you want to reuse the code which is defined in the\n",
    "    function.when you call the function the code in the function runs."
   ]
  },
  {
   "cell_type": "code",
   "execution_count": null,
   "id": "6504b6c3",
   "metadata": {},
   "outputs": [],
   "source": [
    "Q5). How many global scopes are there in a Python program? How many local scopes?\n",
    "\n",
    "Solution :- there are three types of scopes global,local and inbuilt.\n",
    "    global can be used any where in the program.\n",
    "    inbuilt can be used anywhere in the python. like modules and all\n",
    "    local variable is used in the defined function itself.\n",
    "    "
   ]
  },
  {
   "cell_type": "code",
   "execution_count": null,
   "id": "b4447f96",
   "metadata": {},
   "outputs": [],
   "source": [
    "Q6). What happens to variables in a local scope when the function call returns?\n",
    "\n",
    "Solution :- When the function terminates or function call returns the local\n",
    "    variables are destroyed."
   ]
  },
  {
   "cell_type": "code",
   "execution_count": null,
   "id": "2bf4ea55",
   "metadata": {},
   "outputs": [],
   "source": [
    "Q7). What is the concept of a return value? Is it possible to have a return\n",
    "value in an expression?\n",
    "\n",
    "Solution :- The return keyword is used to return value.if return is not mentioned \n",
    "then return type is None. but it is best practice to have return type.\n",
    "Yes it is possible to have a return value in expression."
   ]
  },
  {
   "cell_type": "code",
   "execution_count": null,
   "id": "4f847ec9",
   "metadata": {},
   "outputs": [],
   "source": [
    "Q8). If a function does not have a return statement, what is the return value\n",
    "of a call to that function?\n",
    "\n",
    "Solution :- If a function does not have a return statement then return value is\n",
    "None."
   ]
  },
  {
   "cell_type": "code",
   "execution_count": null,
   "id": "12363e16",
   "metadata": {},
   "outputs": [],
   "source": [
    "Q9). How do you make a function variable refer to the global variable?\n",
    "\n",
    "Solution :- We should use keyword global to make function variable refer\n",
    "    to global variable."
   ]
  },
  {
   "cell_type": "code",
   "execution_count": null,
   "id": "9c40fc09",
   "metadata": {},
   "outputs": [],
   "source": [
    "Q10). What is the data type of None?\n",
    "\n",
    "Solution :- it is basically datatype of class NoneType.None keyword is basically an\n",
    "    object of NoneType class."
   ]
  },
  {
   "cell_type": "code",
   "execution_count": null,
   "id": "49f2616a",
   "metadata": {},
   "outputs": [],
   "source": [
    "Q11). What does the sentence import areallyourpetsnamederic do?\n",
    "\n",
    "Solution :- it will import the module named areallyourpetsnamederic."
   ]
  },
  {
   "cell_type": "code",
   "execution_count": null,
   "id": "fa77cf1e",
   "metadata": {},
   "outputs": [],
   "source": [
    "Q12). If you had a bacon() feature in a spam module, what would you call\n",
    "it after importing spam?\n",
    "\n",
    "Solution :- after importing spam module i will call is as spam.bacon()\n",
    "    as it is a function in module spam\n",
    "\n",
    "Example\n",
    "import spam as sp\n",
    "sp.bacon()"
   ]
  },
  {
   "cell_type": "code",
   "execution_count": null,
   "id": "7daee21c",
   "metadata": {},
   "outputs": [],
   "source": [
    "Q13). What can you do to save a programme from crashing if it encounters\n",
    "an error?\n",
    "\n",
    "Solution :- We can use exception handling.\n",
    "try:\n",
    "    code here\n",
    "except Exception as e :\n",
    "    code here"
   ]
  },
  {
   "cell_type": "code",
   "execution_count": null,
   "id": "c17e0dc5",
   "metadata": {},
   "outputs": [],
   "source": [
    "Q14). What is the purpose of the try clause? What is the purpose of the\n",
    "except clause?\n",
    "\n",
    "Solution :-in try block we write the actual code we are going to perform.\n",
    "    if there is any error in that code then we are directed to the except block.\n",
    "    In except clause we just write the code for exception or for the error which has\n",
    "    occured in the try block. we just write except to run the program smoothly \n",
    "    if error has occured."
   ]
  }
 ],
 "metadata": {
  "kernelspec": {
   "display_name": "Python 3 (ipykernel)",
   "language": "python",
   "name": "python3"
  },
  "language_info": {
   "codemirror_mode": {
    "name": "ipython",
    "version": 3
   },
   "file_extension": ".py",
   "mimetype": "text/x-python",
   "name": "python",
   "nbconvert_exporter": "python",
   "pygments_lexer": "ipython3",
   "version": "3.9.7"
  }
 },
 "nbformat": 4,
 "nbformat_minor": 5
}
